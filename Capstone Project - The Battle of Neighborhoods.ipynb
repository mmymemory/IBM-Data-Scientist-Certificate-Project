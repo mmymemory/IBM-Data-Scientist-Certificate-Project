{
    "cells": [
        {
            "cell_type": "markdown",
            "metadata": {
                "collapsed": true
            },
            "source": "# Capstone Project - The Battle of Neighborhoods"
        },
        {
            "cell_type": "markdown",
            "metadata": {},
            "source": "### Introduction "
        },
        {
            "cell_type": "markdown",
            "metadata": {},
            "source": "#### 1.1 Descritpion of the Problem"
        },
        {
            "cell_type": "markdown",
            "metadata": {},
            "source": "Looking for a safe neighborhood in Seattle to move in. "
        },
        {
            "cell_type": "markdown",
            "metadata": {},
            "source": "#### 1.2 Background"
        },
        {
            "cell_type": "markdown",
            "metadata": {},
            "source": "Seattle is is one of the nation's fast-growing city and leading places for tech job searching with a lots of big tech companies, such as Amazon, Tableau, Microsoft, Redfin and so forth. With that being said, there are tons of job opportunities for data scientist. If I am going to become a data scientist in the future, I hope to land a job in Seattle. Thus, I will have the need to find a  neighboorhood in Seattle to live in."
        },
        {
            "cell_type": "markdown",
            "metadata": {},
            "source": "### Data"
        },
        {
            "cell_type": "markdown",
            "metadata": {},
            "source": "Based on the definition of our problem, factors that may impact our decision are:"
        },
        {
            "cell_type": "markdown",
            "metadata": {},
            "source": "* List of Seattle neighborhood- data from Wikipedia \n  https://en.wikipedia.org/wiki/List_of_neighborhoods_in_Seattle\n  This table contain the neighborhood names. I will use Geopy and Folium to visualize geographic details of Seattle and its neighborhoods. "
        },
        {
            "cell_type": "markdown",
            "metadata": {},
            "source": "* Venues that are close to the neighborhoods - data from Foursquare API. I will be able to explore the venues around the neighborhoods and find the neighborhood I like."
        },
        {
            "cell_type": "code",
            "execution_count": null,
            "metadata": {},
            "outputs": [],
            "source": ""
        }
    ],
    "metadata": {
        "kernelspec": {
            "display_name": "Python 3.7",
            "language": "python",
            "name": "python3"
        },
        "language_info": {
            "codemirror_mode": {
                "name": "ipython",
                "version": 3
            },
            "file_extension": ".py",
            "mimetype": "text/x-python",
            "name": "python",
            "nbconvert_exporter": "python",
            "pygments_lexer": "ipython3",
            "version": "3.7.9"
        }
    },
    "nbformat": 4,
    "nbformat_minor": 1
}